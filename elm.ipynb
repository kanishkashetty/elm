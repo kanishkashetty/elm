{
 "cells": [
  {
   "cell_type": "code",
   "execution_count": 1,
   "metadata": {},
   "outputs": [],
   "source": [
    "import elm"
   ]
  },
  {
   "cell_type": "code",
   "execution_count": 2,
   "metadata": {},
   "outputs": [],
   "source": [
    "import numpy as np\n",
    "from sklearn.model_selection import train_test_split\n",
    "from sklearn.datasets import load_iris, load_digits, load_diabetes, make_regression\n",
    "from sklearn.preprocessing import StandardScaler\n",
    "import matplotlib.pyplot as plt"
   ]
  },
  {
   "cell_type": "code",
   "execution_count": 4,
   "metadata": {},
   "outputs": [],
   "source": [
    "stdsc = StandardScaler()"
   ]
  },
  {
   "cell_type": "code",
   "execution_count": 5,
   "metadata": {},
   "outputs": [],
   "source": [
    "iris = load_iris()"
   ]
  },
  {
   "cell_type": "code",
   "execution_count": 6,
   "metadata": {},
   "outputs": [],
   "source": [
    "irx, iry = stdsc.fit_transform(iris.data), iris.target"
   ]
  },
  {
   "cell_type": "code",
   "execution_count": 7,
   "metadata": {},
   "outputs": [
    {
     "name": "stdout",
     "output_type": "stream",
     "text": [
      "irx shape: (150, 4)\n"
     ]
    }
   ],
   "source": [
    "print(\"irx shape:\", irx.shape)"
   ]
  },
  {
   "cell_type": "code",
   "execution_count": 8,
   "metadata": {},
   "outputs": [
    {
     "name": "stdout",
     "output_type": "stream",
     "text": [
      "iry shape: (150,)\n"
     ]
    }
   ],
   "source": [
    "print(\"iry shape:\", iry.shape)"
   ]
  },
  {
   "cell_type": "code",
   "execution_count": 9,
   "metadata": {},
   "outputs": [],
   "source": [
    "x_train, x_test, y_train, y_test = train_test_split(irx, iry, test_size=0.2)"
   ]
  },
  {
   "cell_type": "code",
   "execution_count": 10,
   "metadata": {},
   "outputs": [],
   "source": [
    "model = elm.elm(hidden_units=32, activation_function='relu', random_type='normal', x=x_train, y=y_train, C=0.1, elm_type='clf')"
   ]
  },
  {
   "cell_type": "code",
   "execution_count": 11,
   "metadata": {},
   "outputs": [],
   "source": [
    "beta, train_accuracy, running_time = model.fit('solution2')"
   ]
  },
  {
   "cell_type": "code",
   "execution_count": 12,
   "metadata": {},
   "outputs": [
    {
     "name": "stdout",
     "output_type": "stream",
     "text": [
      "classifier beta:\n",
      " [[-0.01647883 -0.00905876 -0.01803203]\n",
      " [-0.01150856  0.01852956 -0.0291758 ]\n",
      " [ 0.03013988  0.19302848 -0.0835856 ]\n",
      " [-0.0315579   0.08782201  0.00356946]\n",
      " [-0.01646507 -0.1012301   0.23292578]\n",
      " [ 0.01770405 -0.01168156  0.07236512]\n",
      " [-0.00749792 -0.10206867  0.07073308]\n",
      " [ 0.11903351 -0.14777977  0.05812679]\n",
      " [ 0.00853188 -0.02813196  0.00311781]\n",
      " [ 0.04246471  0.05493703 -0.05086511]\n",
      " [ 0.00840699 -0.10091716  0.04937735]\n",
      " [ 0.00176717 -0.00504589 -0.00756584]\n",
      " [-0.01517015  0.05069861 -0.03163271]\n",
      " [-0.00245648  0.00464774 -0.00278091]\n",
      " [ 0.00430151  0.36092485 -0.06716642]\n",
      " [-0.00361838  0.19072611 -0.03312533]\n",
      " [ 0.16547737 -0.13544406  0.03412623]\n",
      " [ 0.19442842 -0.15942929  0.06414619]\n",
      " [ 0.04315753 -0.03028975  0.00214325]\n",
      " [ 0.00370368 -0.14749036  0.03506767]\n",
      " [-0.01076413  0.02079554 -0.04476733]\n",
      " [ 0.02373767 -0.13762102  0.10087849]\n",
      " [ 0.04650784 -0.03645103 -0.00887657]\n",
      " [-0.0061519   0.00092415 -0.00568291]\n",
      " [ 0.01178289  0.03066447  0.09136634]\n",
      " [-0.01083433  0.00753301 -0.00422016]\n",
      " [ 0.00107674 -0.04653865  0.04576487]\n",
      " [-0.02089675 -0.00335741  0.14637988]\n",
      " [ 0.06905697  0.13920166 -0.06512583]\n",
      " [ 0.00426606 -0.10772376  0.06902131]\n",
      " [ 0.02943436 -0.06990286  0.01945958]\n",
      " [-0.00269974  0.00362541 -0.00354984]]\n"
     ]
    }
   ],
   "source": [
    "print(\"classifier beta:\\n\", beta)"
   ]
  },
  {
   "cell_type": "code",
   "execution_count": 13,
   "metadata": {},
   "outputs": [
    {
     "name": "stdout",
     "output_type": "stream",
     "text": [
      "classifier train accuracy: 0.975\n"
     ]
    }
   ],
   "source": [
    "print(\"classifier train accuracy:\", train_accuracy)\n"
   ]
  },
  {
   "cell_type": "code",
   "execution_count": 14,
   "metadata": {},
   "outputs": [
    {
     "name": "stdout",
     "output_type": "stream",
     "text": [
      "classifier running time: 1.641689299999996\n"
     ]
    }
   ],
   "source": [
    "print('classifier running time:', running_time)"
   ]
  },
  {
   "cell_type": "code",
   "execution_count": 15,
   "metadata": {},
   "outputs": [],
   "source": [
    "\n",
    "prediction = model.predict(x_test)"
   ]
  },
  {
   "cell_type": "code",
   "execution_count": 16,
   "metadata": {},
   "outputs": [
    {
     "name": "stdout",
     "output_type": "stream",
     "text": [
      "classifier test prediction: [1 2 1 2 1 2 2 2 0 0 1 1 0 0 2 2 2 2 1 1 2 2 0 2 1 1 1 1 0 0]\n"
     ]
    }
   ],
   "source": [
    "print(\"classifier test prediction:\", prediction)\n",
    "\n"
   ]
  },
  {
   "cell_type": "code",
   "execution_count": 17,
   "metadata": {},
   "outputs": [
    {
     "name": "stdout",
     "output_type": "stream",
     "text": [
      "classifier test accuracy: 0.9666666666666667\n"
     ]
    }
   ],
   "source": [
    "print('classifier test accuracy:', model.score(x_test, y_test))"
   ]
  },
  {
   "cell_type": "code",
   "execution_count": 19,
   "metadata": {},
   "outputs": [
    {
     "name": "stdout",
     "output_type": "stream",
     "text": [
      "handwritten number dataset classification>>>>>>>>>>>>>>>>>>>>>>>>\n"
     ]
    }
   ],
   "source": [
    "print(\"handwritten number dataset classification>>>>>>>>>>>>>>>>>>>>>>>>\")\n"
   ]
  },
  {
   "cell_type": "code",
   "execution_count": 20,
   "metadata": {},
   "outputs": [],
   "source": [
    "# load dataset\n",
    "digits = load_digits()"
   ]
  },
  {
   "cell_type": "code",
   "execution_count": 21,
   "metadata": {},
   "outputs": [],
   "source": [
    "dgx, dgy = stdsc.fit_transform(digits.data/16.0), digits.target"
   ]
  },
  {
   "cell_type": "code",
   "execution_count": 22,
   "metadata": {},
   "outputs": [
    {
     "name": "stdout",
     "output_type": "stream",
     "text": [
      "dgx shape: (1797, 64)\n"
     ]
    }
   ],
   "source": [
    "print(\"dgx shape:\", dgx.shape)"
   ]
  },
  {
   "cell_type": "code",
   "execution_count": 23,
   "metadata": {},
   "outputs": [
    {
     "name": "stdout",
     "output_type": "stream",
     "text": [
      "dgy shape: (1797,)\n"
     ]
    }
   ],
   "source": [
    "print(\"dgy shape:\", dgy.shape)"
   ]
  },
  {
   "cell_type": "code",
   "execution_count": 24,
   "metadata": {},
   "outputs": [],
   "source": [
    "x_train, x_test, y_train, y_test = train_test_split(irx, iry, test_size=0.2)"
   ]
  },
  {
   "cell_type": "code",
   "execution_count": 25,
   "metadata": {},
   "outputs": [],
   "source": [
    "# build model and train\n",
    "model = elm.elm(hidden_units=32, activation_function='relu', random_type='normal', x=x_train, y=y_train, C=0.1, elm_type='clf')\n"
   ]
  },
  {
   "cell_type": "code",
   "execution_count": 26,
   "metadata": {},
   "outputs": [],
   "source": [
    "beta, train_accuracy, running_time = model.fit('solution2')"
   ]
  },
  {
   "cell_type": "code",
   "execution_count": 27,
   "metadata": {},
   "outputs": [
    {
     "name": "stdout",
     "output_type": "stream",
     "text": [
      "classifier beta:\n",
      " [[-1.45151122e-03  2.78943214e-03 -5.38557940e-03]\n",
      " [-7.75483366e-03  9.99570930e-02 -4.73681668e-02]\n",
      " [ 1.83681764e-03 -1.34019995e-02  7.87903158e-03]\n",
      " [-2.42057083e-02  1.82444763e-01 -3.34513640e-02]\n",
      " [ 3.49012345e-02 -7.29699699e-02  3.08531740e-02]\n",
      " [ 1.11044161e-01 -1.28625810e-01  4.11978891e-02]\n",
      " [ 8.63208805e-03  3.63331177e-02 -1.28336125e-02]\n",
      " [-4.23168328e-03  3.45677490e-02  1.37446889e-01]\n",
      " [-1.35960765e-02  6.63836423e-02 -1.37653018e-02]\n",
      " [ 3.34676449e-02 -1.46336839e-02 -3.06648415e-03]\n",
      " [ 3.62010121e-03 -9.88777605e-02  1.19142315e-01]\n",
      " [ 4.22706274e-02  2.75827194e-03  2.12741917e-06]\n",
      " [-4.54376970e-03 -3.04368732e-02  2.98605941e-02]\n",
      " [ 1.10459899e-02 -8.44089777e-02  5.07736542e-02]\n",
      " [ 7.17219199e-02 -8.50481798e-02  3.24256609e-02]\n",
      " [ 9.21211732e-02 -1.62001268e-01  5.92459683e-02]\n",
      " [-1.73775102e-02 -3.46326765e-02  7.18694754e-02]\n",
      " [ 5.09707642e-02  3.20427202e-01 -8.22925285e-02]\n",
      " [ 3.22804722e-04 -6.91774478e-02  1.00946450e-01]\n",
      " [-1.83133557e-02  2.18523988e-02 -8.25390479e-03]\n",
      " [ 2.08609381e-02 -2.43573085e-01  2.06731639e-01]\n",
      " [-1.28023598e-02 -4.27175261e-03 -6.97322994e-03]\n",
      " [ 2.28912071e-03  4.39697145e-03 -1.00406529e-02]\n",
      " [ 3.27562352e-02 -6.03968823e-02  2.06925999e-02]\n",
      " [-8.79201333e-03 -2.37377992e-02  2.76210899e-02]\n",
      " [ 2.23541711e-02  2.54805713e-01 -1.64519886e-01]\n",
      " [-1.32326933e-02  1.46033440e-02 -1.42436333e-02]\n",
      " [ 7.17607638e-03  8.23077888e-02 -7.53682521e-02]\n",
      " [ 3.16922975e-03  4.31529339e-02 -3.94856847e-02]\n",
      " [ 6.42614029e-04 -6.97825308e-02  2.71882479e-02]\n",
      " [-2.18207865e-02 -1.94791812e-03  1.01498000e-01]\n",
      " [ 7.22955839e-02 -6.83088468e-02  2.46748230e-02]]\n"
     ]
    }
   ],
   "source": [
    "print(\"classifier beta:\\n\", beta)"
   ]
  },
  {
   "cell_type": "code",
   "execution_count": 29,
   "metadata": {},
   "outputs": [
    {
     "name": "stdout",
     "output_type": "stream",
     "text": [
      "classifier train accuracy: 0.9666666666666667\n"
     ]
    }
   ],
   "source": [
    "print(\"classifier train accuracy:\", train_accuracy)"
   ]
  },
  {
   "cell_type": "code",
   "execution_count": 30,
   "metadata": {},
   "outputs": [
    {
     "name": "stdout",
     "output_type": "stream",
     "text": [
      "classifier running time: 0.043936899999948764\n"
     ]
    }
   ],
   "source": [
    "print('classifier running time:', running_time)"
   ]
  },
  {
   "cell_type": "code",
   "execution_count": 31,
   "metadata": {},
   "outputs": [],
   "source": [
    "# test\n",
    "prediction = model.predict(x_test)\n"
   ]
  },
  {
   "cell_type": "code",
   "execution_count": 32,
   "metadata": {},
   "outputs": [
    {
     "name": "stdout",
     "output_type": "stream",
     "text": [
      "classifier test prediction: [1 0 1 1 1 1 2 2 2 1 1 0 1 2 0 0 1 1 2 0 1 2 1 0 2 2 0 1 1 2]\n"
     ]
    }
   ],
   "source": [
    "print(\"classifier test prediction:\", prediction)"
   ]
  },
  {
   "cell_type": "code",
   "execution_count": 33,
   "metadata": {},
   "outputs": [
    {
     "name": "stdout",
     "output_type": "stream",
     "text": [
      "classifier test accuracy: 0.9333333333333333\n"
     ]
    }
   ],
   "source": [
    "print('classifier test accuracy:', model.score(x_test, y_test))"
   ]
  },
  {
   "cell_type": "code",
   "execution_count": 35,
   "metadata": {},
   "outputs": [
    {
     "name": "stdout",
     "output_type": "stream",
     "text": [
      "regression problem>>>>>>>>>>>>>>>>>>>>>>>>>>>>>>>>>>>>>>>>\n"
     ]
    }
   ],
   "source": [
    "# regression problem\n",
    "# **************************\n",
    "print(\"regression problem>>>>>>>>>>>>>>>>>>>>>>>>>>>>>>>>>>>>>>>>\")\n",
    "\n"
   ]
  },
  {
   "cell_type": "code",
   "execution_count": 36,
   "metadata": {},
   "outputs": [],
   "source": [
    "# generate dataset\n",
    "x = np.arange(0.25, 20, 0.1).reshape(-1, 1)\n",
    "y = x * np.cos(x) + 0.5 * np.sqrt(x) * np.random.randn(x.shape[0]).reshape(-1, 1)"
   ]
  },
  {
   "cell_type": "code",
   "execution_count": 37,
   "metadata": {},
   "outputs": [],
   "source": [
    "xtoy, ytoy = stdsc.fit_transform(x), stdsc.fit_transform(y)"
   ]
  },
  {
   "cell_type": "code",
   "execution_count": 38,
   "metadata": {},
   "outputs": [],
   "source": [
    "# build model and train\n",
    "model = elm.elm(hidden_units=32, activation_function='sigmoid', random_type='normal', x=xtoy, y=ytoy, C=1, elm_type='reg')"
   ]
  },
  {
   "cell_type": "code",
   "execution_count": 39,
   "metadata": {},
   "outputs": [],
   "source": [
    "beta, train_score, running_time = model.fit('no_re')\n"
   ]
  },
  {
   "cell_type": "code",
   "execution_count": 40,
   "metadata": {},
   "outputs": [
    {
     "name": "stdout",
     "output_type": "stream",
     "text": [
      "regression beta:\n",
      " [[ 52633533.64589859]\n",
      " [ -7737800.00020857]\n",
      " [  4010513.26278772]\n",
      " [  1637675.69397771]\n",
      " [-30748957.09876704]\n",
      " [  -589077.06332629]\n",
      " [-18676353.19327923]\n",
      " [ -8746583.38672087]\n",
      " [ 16169375.48407746]\n",
      " [ 25328354.73040349]\n",
      " [  3017452.88768167]\n",
      " [   602035.23722479]\n",
      " [ 70051464.66155562]\n",
      " [-25341802.0783677 ]\n",
      " [ -4548361.47941109]\n",
      " [-53769737.1296594 ]\n",
      " [ 11857306.64223596]\n",
      " [  3227181.73551761]\n",
      " [ -3842944.98907408]\n",
      " [ 16198486.95478748]\n",
      " [ -6917534.85907366]\n",
      " [-69656052.21578191]\n",
      " [ 11069356.42480173]\n",
      " [ -1459869.97297174]\n",
      " [-70349640.53745423]\n",
      " [ -2005338.54834247]\n",
      " [ 93697343.56396803]\n",
      " [-21125685.96225195]\n",
      " [ 16436831.47429177]\n",
      " [   831150.10860403]\n",
      " [ 22876437.32973124]\n",
      " [ 14451374.44051141]]\n"
     ]
    }
   ],
   "source": [
    "print(\"regression beta:\\n\", beta)"
   ]
  },
  {
   "cell_type": "code",
   "execution_count": 41,
   "metadata": {},
   "outputs": [
    {
     "name": "stdout",
     "output_type": "stream",
     "text": [
      "regression train score: 0.1998633825982215\n"
     ]
    }
   ],
   "source": [
    "print(\"regression train score:\", train_score)"
   ]
  },
  {
   "cell_type": "code",
   "execution_count": 42,
   "metadata": {},
   "outputs": [
    {
     "name": "stdout",
     "output_type": "stream",
     "text": [
      "regression running time: 0.48643520000007356\n"
     ]
    }
   ],
   "source": [
    "print(\"regression running time:\", running_time)"
   ]
  },
  {
   "cell_type": "code",
   "execution_count": 43,
   "metadata": {},
   "outputs": [],
   "source": [
    "# test\n",
    "prediction = model.predict(xtoy)\n",
    "\n"
   ]
  },
  {
   "cell_type": "code",
   "execution_count": 44,
   "metadata": {},
   "outputs": [
    {
     "name": "stdout",
     "output_type": "stream",
     "text": [
      "regression result: [ 0.20007016  0.02452364 -0.09107622 -0.15937308 -0.19134149 -0.19642208\n",
      " -0.18265126 -0.15678523 -0.12441865 -0.09009766 -0.05742735 -0.02917335\n",
      " -0.00735825  0.00664771  0.01204166  0.0085082  -0.00385479 -0.02460525\n",
      " -0.05302057 -0.0881566  -0.12890091 -0.17402203 -0.22221316 -0.27213211\n",
      " -0.32243606 -0.37181259 -0.41900639 -0.46284215 -0.50224368 -0.53624956\n",
      " -0.56402545 -0.58487331 -0.59823751 -0.60370873 -0.60102457 -0.59006861\n",
      " -0.57086705 -0.5435834  -0.50851162 -0.466068   -0.41678119 -0.3612818\n",
      " -0.30029075 -0.23460686 -0.16509437 -0.09266957 -0.01828755  0.05707117\n",
      "  0.13241366  0.20674788  0.27909499  0.34850151  0.41405075  0.47487364\n",
      "  0.5301586   0.5791606   0.62120948  0.65571678  0.68218208  0.70019811\n",
      "  0.70945439  0.70974032  0.70094692  0.68306731  0.65619638  0.62052934\n",
      "  0.57635904  0.52407278  0.46414744  0.39714478  0.32370488  0.24453955\n",
      "  0.16042489  0.07219312 -0.01927596 -0.11306379 -0.2082224  -0.30378419\n",
      " -0.39877106 -0.49220468 -0.58311591 -0.67055434 -0.75359794 -0.83136172\n",
      " -0.90300688 -0.9677489  -1.02486529 -1.07370282 -1.11368404 -1.1443132\n",
      " -1.16518138 -1.17597064 -1.17645775 -1.1665167  -1.1461205  -1.11534204\n",
      " -1.07435418 -1.02342875 -0.96293475 -0.89333567 -0.8151861  -0.72912712\n",
      " -0.63588136 -0.53624702 -0.4310912  -0.32134274 -0.20798431 -0.09204405\n",
      "  0.02541338  0.14329593  0.26049374  0.37588914  0.4883664   0.59682192\n",
      "  0.70017431  0.79737437  0.88741488  0.96934019  1.04225558  1.10533603\n",
      "  1.15783464  1.19909039  1.22853546  1.24570168  1.25022625  1.24185687\n",
      "  1.22045556  1.18600209  1.13859615  1.07845853  1.00593144  0.92147779\n",
      "  0.82567927  0.71923347  0.60295006  0.47774585  0.34463865  0.20474049\n",
      "  0.05924958 -0.09055847 -0.24334058 -0.39769638 -0.55217997 -0.70531168\n",
      " -0.85559071 -1.00150834 -1.14156165 -1.27426735 -1.39817603 -1.51188662\n",
      " -1.61406074 -1.70343708 -1.77884548 -1.83922094 -1.88361682 -1.91121778\n",
      " -1.92135205 -1.9135025  -1.8873172  -1.84261863 -1.77941174 -1.69789067\n",
      " -1.59844401 -1.48165825 -1.34831992 -1.19941531 -1.03612858 -0.8598377\n",
      " -0.6721081  -0.47468387 -0.26947682 -0.05855259  0.15588551  0.37151556\n",
      "  0.58591914  0.7966059   1.00104147  1.19667835  1.38098973  1.55150677\n",
      "  1.70585869  1.84181663  1.95734037  2.05062847  2.12017176  2.16481021\n",
      "  2.18379296  2.17684183  2.14421809  2.08679237  2.00611804  1.90450768\n",
      "  1.78511261  1.65200576  1.5102673   1.36607353  1.22678839  1.10105806]\n"
     ]
    }
   ],
   "source": [
    "print(\"regression result:\", prediction.reshape(-1, ))\n"
   ]
  },
  {
   "cell_type": "code",
   "execution_count": 45,
   "metadata": {},
   "outputs": [
    {
     "name": "stdout",
     "output_type": "stream",
     "text": [
      "regression score: 0.1998633825982215\n"
     ]
    }
   ],
   "source": [
    "\n",
    "print(\"regression score:\", model.score(xtoy, ytoy))"
   ]
  },
  {
   "cell_type": "code",
   "execution_count": 46,
   "metadata": {},
   "outputs": [
    {
     "name": "stderr",
     "output_type": "stream",
     "text": [
      "No handles with labels found to put in legend.\n"
     ]
    },
    {
     "data": {
      "image/png": "[encoded data removed]",
      "text/plain": [
       "<Figure size 432x288 with 1 Axes>"
      ]
     },
     "metadata": {
      "needs_background": "light"
     },
     "output_type": "display_data"
    }
   ],
   "source": [
    "# plot\n",
    "plt.plot(xtoy, ytoy)\n",
    "plt.plot(xtoy, prediction)\n",
    "plt.title('xtoy, ytoy')\n",
    "plt.legend()\n",
    "plt.show()"
   ]
  },
  {
   "cell_type": "code",
   "execution_count": null,
   "metadata": {},
   "outputs": [],
   "source": []
  }
 ],
 "metadata": {
  "kernelspec": {
   "display_name": "Python 3",
   "language": "python",
   "name": "python3"
  },
  "language_info": {
   "codemirror_mode": {
    "name": "ipython",
    "version": 3
   },
   "file_extension": ".py",
   "mimetype": "text/x-python",
   "name": "python",
   "nbconvert_exporter": "python",
   "pygments_lexer": "ipython3",
   "version": "3.7.1"
  }
 },
 "nbformat": 4,
 "nbformat_minor": 2
}
